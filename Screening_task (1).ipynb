{
 "cells": [
  {
   "cell_type": "markdown",
   "id": "0db455c4",
   "metadata": {},
   "source": [
    "1. Create a function in python to read the text file and replace specific content\n",
    "of the file."
   ]
  },
  {
   "cell_type": "code",
   "execution_count": 48,
   "id": "48c1a754",
   "metadata": {},
   "outputs": [],
   "source": [
    "f = open(\"example.txt\",'w+')\n",
    "f.write(\"This is a placement assignment\")\n",
    "f.close()"
   ]
  },
  {
   "cell_type": "code",
   "execution_count": null,
   "id": "8501302d",
   "metadata": {},
   "outputs": [],
   "source": []
  },
  {
   "cell_type": "code",
   "execution_count": 75,
   "id": "5a931043",
   "metadata": {},
   "outputs": [
    {
     "data": {
      "text/plain": [
       "'This is a screening assignment'"
      ]
     },
     "execution_count": 75,
     "metadata": {},
     "output_type": "execute_result"
    }
   ],
   "source": [
    "def Replace():\n",
    "    \n",
    "    old = \"placement\"\n",
    "    new = \"screening\"\n",
    "    \n",
    "    f= open(\"example.txt\", \"r\") \n",
    "    data = f.read()\n",
    "    data = data.replace(old,new)\n",
    "        \n",
    "    f1 = open(\"example.txt\", \"r+\")\n",
    "    f1.write(data)\n",
    "        \n",
    "    f3 = open(\"example.txt\", \"r\")\n",
    "    return f3.read()\n",
    "    \n",
    "    \n",
    "Replace()"
   ]
  },
  {
   "cell_type": "code",
   "execution_count": null,
   "id": "b38c1631",
   "metadata": {},
   "outputs": [],
   "source": []
  },
  {
   "cell_type": "markdown",
   "id": "12f2a246",
   "metadata": {},
   "source": [
    "2. Demonstrate use of abstract class, multiple inheritance and decorator in\n",
    "python using examples."
   ]
  },
  {
   "cell_type": "code",
   "execution_count": 1,
   "id": "b712f419",
   "metadata": {},
   "outputs": [
    {
     "name": "stdout",
     "output_type": "stream",
     "text": [
      "The mileage is 30kmph\n",
      "The mileage is 27kmph \n",
      "The mileage is 25kmph \n",
      "The mileage is 24kmph \n"
     ]
    }
   ],
   "source": [
    "##Abstract Class\n",
    "\n",
    "from abc import ABC, abstractmethod   \n",
    "class Car(ABC):   \n",
    "    def mileage(self):   \n",
    "        pass  \n",
    "  \n",
    "class Tesla(Car):   \n",
    "    def mileage(self):   \n",
    "        print(\"The mileage is 30kmph\")   \n",
    "class Suzuki(Car):   \n",
    "    def mileage(self):   \n",
    "        print(\"The mileage is 25kmph \")   \n",
    "class Duster(Car):   \n",
    "     def mileage(self):   \n",
    "          print(\"The mileage is 24kmph \")   \n",
    "  \n",
    "class Renault(Car):   \n",
    "    def mileage(self):   \n",
    "            print(\"The mileage is 27kmph \")   \n",
    "          \n",
    "# Driver code   \n",
    "t= Tesla ()   \n",
    "t.mileage()   \n",
    "  \n",
    "r = Renault()   \n",
    "r.mileage()   \n",
    "  \n",
    "s = Suzuki()   \n",
    "s.mileage()   \n",
    "d = Duster()   \n",
    "d.mileage()  \n"
   ]
  },
  {
   "cell_type": "code",
   "execution_count": 2,
   "id": "2e444daa",
   "metadata": {},
   "outputs": [
    {
     "name": "stdout",
     "output_type": "stream",
     "text": [
      "Meows\n",
      "I have a spinal cord\n",
      "Woof\n",
      "I have a spinal cord\n"
     ]
    }
   ],
   "source": [
    "##multiple inheritance\n",
    "\n",
    "\n",
    "class Vertebrates:\n",
    "    def printmsg(self):\n",
    "        print(\"I have a spinal cord\")\n",
    "\n",
    "        \n",
    "class Animal:\n",
    "    def makeSound(self):\n",
    "        print(\"make sound\")\n",
    "        \n",
    "class Dog(Animal,Vertebrates):\n",
    "     def makeSound(self):\n",
    "        print(\"Woof\")\n",
    "                \n",
    "class Labrador(Dog):\n",
    "     pass\n",
    "    \n",
    "\n",
    "class Cat(Animal,Vertebrates):\n",
    "     def makeSound(self):\n",
    "        print(\"Meows\")\n",
    "\n",
    "        \n",
    "c =Cat()\n",
    "c.makeSound()\n",
    "c.printmsg()\n",
    "\n",
    "l=Labrador()\n",
    "l.makeSound()\n",
    "l.printmsg()\n"
   ]
  },
  {
   "cell_type": "code",
   "execution_count": 3,
   "id": "adc9c39a",
   "metadata": {},
   "outputs": [
    {
     "name": "stdout",
     "output_type": "stream",
     "text": [
      "9\n",
      "21\n"
     ]
    }
   ],
   "source": [
    "###decorator\n",
    "\n",
    "def add(x):  \n",
    "    return x+1  \n",
    "def sub(x):  \n",
    "    return x-1  \n",
    "def operator(func, x):  \n",
    "    temp = func(x)  \n",
    "    return temp  \n",
    "print(operator(sub,10))  \n",
    "print(operator(add,20))  "
   ]
  },
  {
   "cell_type": "code",
   "execution_count": null,
   "id": "d3a4c945",
   "metadata": {},
   "outputs": [],
   "source": []
  }
 ],
 "metadata": {
  "kernelspec": {
   "display_name": "Python 3 (ipykernel)",
   "language": "python",
   "name": "python3"
  },
  "language_info": {
   "codemirror_mode": {
    "name": "ipython",
    "version": 3
   },
   "file_extension": ".py",
   "mimetype": "text/x-python",
   "name": "python",
   "nbconvert_exporter": "python",
   "pygments_lexer": "ipython3",
   "version": "3.9.7"
  }
 },
 "nbformat": 4,
 "nbformat_minor": 5
}
